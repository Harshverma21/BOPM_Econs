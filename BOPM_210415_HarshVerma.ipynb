{
 "cells": [
  {
   "cell_type": "code",
   "execution_count": 5,
   "id": "d18ac3a5",
   "metadata": {
    "pycharm": {
     "name": "#%%\n"
    }
   },
   "outputs": [],
   "source": [
    "import pandas as pd\n",
    "import numpy as np\n",
    "import math\n",
    "\n"
   ]
  },
  {
   "cell_type": "code",
   "execution_count": null,
   "id": "ee4f3323",
   "metadata": {
    "pycharm": {
     "name": "#%%\n"
    }
   },
   "outputs": [],
   "source": [
    "df=pd.read_csv(\"C:/Users/HP/OneDrive/Desktop/bopm/project.csv\")"
   ]
  },
  {
   "cell_type": "code",
   "execution_count": 8,
   "id": "5cce503a",
   "metadata": {
    "pycharm": {
     "name": "#%%\n"
    }
   },
   "outputs": [],
   "source": [
    "df[\"start\"]= ((df[\"Close\"])/(df[\"Open\"])-1)\n"
   ]
  },
  {
   "cell_type": "code",
   "execution_count": 12,
   "id": "89c75a28",
   "metadata": {
    "pycharm": {
     "name": "#%%\n"
    }
   },
   "outputs": [
    {
     "data": {
      "text/html": [
       "<div>\n",
       "<style scoped>\n",
       "    .dataframe tbody tr th:only-of-type {\n",
       "        vertical-align: middle;\n",
       "    }\n",
       "\n",
       "    .dataframe tbody tr th {\n",
       "        vertical-align: top;\n",
       "    }\n",
       "\n",
       "    .dataframe thead th {\n",
       "        text-align: right;\n",
       "    }\n",
       "</style>\n",
       "<table border=\"1\" class=\"dataframe\">\n",
       "  <thead>\n",
       "    <tr style=\"text-align: right;\">\n",
       "      <th></th>\n",
       "      <th>Open</th>\n",
       "      <th>High</th>\n",
       "      <th>Low</th>\n",
       "      <th>Close</th>\n",
       "      <th>Adj Close</th>\n",
       "      <th>Volume</th>\n",
       "      <th>volat</th>\n",
       "    </tr>\n",
       "    <tr>\n",
       "      <th>Date</th>\n",
       "      <th></th>\n",
       "      <th></th>\n",
       "      <th></th>\n",
       "      <th></th>\n",
       "      <th></th>\n",
       "      <th></th>\n",
       "      <th></th>\n",
       "    </tr>\n",
       "  </thead>\n",
       "  <tbody>\n",
       "    <tr>\n",
       "      <th>2022-01-03</th>\n",
       "      <td>17387.150391</td>\n",
       "      <td>17646.650391</td>\n",
       "      <td>17383.300781</td>\n",
       "      <td>17625.699219</td>\n",
       "      <td>17625.699219</td>\n",
       "      <td>200500</td>\n",
       "      <td>NaN</td>\n",
       "    </tr>\n",
       "    <tr>\n",
       "      <th>2022-01-04</th>\n",
       "      <td>17681.400391</td>\n",
       "      <td>17827.599609</td>\n",
       "      <td>17593.550781</td>\n",
       "      <td>17805.250000</td>\n",
       "      <td>17805.250000</td>\n",
       "      <td>247400</td>\n",
       "      <td>0.010187</td>\n",
       "    </tr>\n",
       "    <tr>\n",
       "      <th>2022-01-05</th>\n",
       "      <td>17820.099609</td>\n",
       "      <td>17944.699219</td>\n",
       "      <td>17748.849609</td>\n",
       "      <td>17925.250000</td>\n",
       "      <td>17925.250000</td>\n",
       "      <td>251500</td>\n",
       "      <td>0.006740</td>\n",
       "    </tr>\n",
       "    <tr>\n",
       "      <th>2022-01-06</th>\n",
       "      <td>17768.500000</td>\n",
       "      <td>17797.949219</td>\n",
       "      <td>17655.550781</td>\n",
       "      <td>17745.900391</td>\n",
       "      <td>17745.900391</td>\n",
       "      <td>236500</td>\n",
       "      <td>-0.010005</td>\n",
       "    </tr>\n",
       "    <tr>\n",
       "      <th>2022-01-07</th>\n",
       "      <td>17797.599609</td>\n",
       "      <td>17905.000000</td>\n",
       "      <td>17704.550781</td>\n",
       "      <td>17812.699219</td>\n",
       "      <td>17812.699219</td>\n",
       "      <td>239300</td>\n",
       "      <td>0.003764</td>\n",
       "    </tr>\n",
       "    <tr>\n",
       "      <th>2022-01-10</th>\n",
       "      <td>17913.300781</td>\n",
       "      <td>18017.449219</td>\n",
       "      <td>17879.150391</td>\n",
       "      <td>18003.300781</td>\n",
       "      <td>18003.300781</td>\n",
       "      <td>232400</td>\n",
       "      <td>0.010700</td>\n",
       "    </tr>\n",
       "    <tr>\n",
       "      <th>2022-01-11</th>\n",
       "      <td>17997.750000</td>\n",
       "      <td>18081.250000</td>\n",
       "      <td>17964.400391</td>\n",
       "      <td>18055.750000</td>\n",
       "      <td>18055.750000</td>\n",
       "      <td>220200</td>\n",
       "      <td>0.002913</td>\n",
       "    </tr>\n",
       "    <tr>\n",
       "      <th>2022-01-12</th>\n",
       "      <td>18170.400391</td>\n",
       "      <td>18227.949219</td>\n",
       "      <td>18128.800781</td>\n",
       "      <td>18212.349609</td>\n",
       "      <td>18212.349609</td>\n",
       "      <td>245000</td>\n",
       "      <td>0.008673</td>\n",
       "    </tr>\n",
       "    <tr>\n",
       "      <th>2022-01-13</th>\n",
       "      <td>18257.000000</td>\n",
       "      <td>18272.250000</td>\n",
       "      <td>18163.800781</td>\n",
       "      <td>18257.800781</td>\n",
       "      <td>18257.800781</td>\n",
       "      <td>303700</td>\n",
       "      <td>0.002496</td>\n",
       "    </tr>\n",
       "    <tr>\n",
       "      <th>2022-01-14</th>\n",
       "      <td>18185.000000</td>\n",
       "      <td>18286.949219</td>\n",
       "      <td>18119.650391</td>\n",
       "      <td>18255.750000</td>\n",
       "      <td>18255.750000</td>\n",
       "      <td>229500</td>\n",
       "      <td>-0.000112</td>\n",
       "    </tr>\n",
       "  </tbody>\n",
       "</table>\n",
       "</div>"
      ],
      "text/plain": [
       "                    Open          High           Low         Close  \\\n",
       "Date                                                                 \n",
       "2022-01-03  17387.150391  17646.650391  17383.300781  17625.699219   \n",
       "2022-01-04  17681.400391  17827.599609  17593.550781  17805.250000   \n",
       "2022-01-05  17820.099609  17944.699219  17748.849609  17925.250000   \n",
       "2022-01-06  17768.500000  17797.949219  17655.550781  17745.900391   \n",
       "2022-01-07  17797.599609  17905.000000  17704.550781  17812.699219   \n",
       "2022-01-10  17913.300781  18017.449219  17879.150391  18003.300781   \n",
       "2022-01-11  17997.750000  18081.250000  17964.400391  18055.750000   \n",
       "2022-01-12  18170.400391  18227.949219  18128.800781  18212.349609   \n",
       "2022-01-13  18257.000000  18272.250000  18163.800781  18257.800781   \n",
       "2022-01-14  18185.000000  18286.949219  18119.650391  18255.750000   \n",
       "\n",
       "               Adj Close  Volume     volat  \n",
       "Date                                        \n",
       "2022-01-03  17625.699219  200500       NaN  \n",
       "2022-01-04  17805.250000  247400  0.010187  \n",
       "2022-01-05  17925.250000  251500  0.006740  \n",
       "2022-01-06  17745.900391  236500 -0.010005  \n",
       "2022-01-07  17812.699219  239300  0.003764  \n",
       "2022-01-10  18003.300781  232400  0.010700  \n",
       "2022-01-11  18055.750000  220200  0.002913  \n",
       "2022-01-12  18212.349609  245000  0.008673  \n",
       "2022-01-13  18257.800781  303700  0.002496  \n",
       "2022-01-14  18255.750000  229500 -0.000112  "
      ]
     },
     "execution_count": 12,
     "metadata": {},
     "output_type": "execute_result"
    }
   ],
   "source": [
    "\n",
    "df.head(10)\n",
    "\n"
   ]
  },
  {
   "cell_type": "code",
   "execution_count": 10,
   "id": "3573d3c7",
   "metadata": {
    "pycharm": {
     "name": "#%%\n"
    }
   },
   "outputs": [],
   "source": [
    "def volatility(df):\n",
    "    df['volat']=df['Adj Close'].pct_change()\n",
    "    vol =df['volat'].std(ddof=0)*np.sqrt(252)\n",
    "    return vol"
   ]
  },
  {
   "cell_type": "code",
   "execution_count": 11,
   "id": "cbefa1ed",
   "metadata": {
    "pycharm": {
     "name": "#%%\n"
    }
   },
   "outputs": [
    {
     "data": {
      "text/plain": [
       "0.17256999226570358"
      ]
     },
     "execution_count": 11,
     "metadata": {},
     "output_type": "execute_result"
    }
   ],
   "source": [
    "volatility (df)\n"
   ]
  },
  {
   "cell_type": "code",
   "execution_count": 6,
   "id": "f31a33e7",
   "metadata": {
    "pycharm": {
     "name": "#%%\n"
    }
   },
   "outputs": [
    {
     "data": {
      "text/html": [
       "<div>\n",
       "<style scoped>\n",
       "    .dataframe tbody tr th:only-of-type {\n",
       "        vertical-align: middle;\n",
       "    }\n",
       "\n",
       "    .dataframe tbody tr th {\n",
       "        vertical-align: top;\n",
       "    }\n",
       "\n",
       "    .dataframe thead th {\n",
       "        text-align: right;\n",
       "    }\n",
       "</style>\n",
       "<table border=\"1\" class=\"dataframe\">\n",
       "  <thead>\n",
       "    <tr style=\"text-align: right;\">\n",
       "      <th></th>\n",
       "      <th>Open</th>\n",
       "      <th>High</th>\n",
       "      <th>Low</th>\n",
       "      <th>Close</th>\n",
       "      <th>Volume</th>\n",
       "      <th>Dividends</th>\n",
       "      <th>Stock Splits</th>\n",
       "    </tr>\n",
       "    <tr>\n",
       "      <th>Date</th>\n",
       "      <th></th>\n",
       "      <th></th>\n",
       "      <th></th>\n",
       "      <th></th>\n",
       "      <th></th>\n",
       "      <th></th>\n",
       "      <th></th>\n",
       "    </tr>\n",
       "  </thead>\n",
       "  <tbody>\n",
       "    <tr>\n",
       "      <th>2023-03-03 00:00:00+05:30</th>\n",
       "      <td>17451.25</td>\n",
       "      <td>17644.75</td>\n",
       "      <td>17427.699219</td>\n",
       "      <td>17594.349609</td>\n",
       "      <td>356200</td>\n",
       "      <td>0.0</td>\n",
       "      <td>0.0</td>\n",
       "    </tr>\n",
       "  </tbody>\n",
       "</table>\n",
       "</div>"
      ],
      "text/plain": [
       "                               Open      High           Low         Close  \\\n",
       "Date                                                                        \n",
       "2023-03-03 00:00:00+05:30  17451.25  17644.75  17427.699219  17594.349609   \n",
       "\n",
       "                           Volume  Dividends  Stock Splits  \n",
       "Date                                                        \n",
       "2023-03-03 00:00:00+05:30  356200        0.0           0.0  "
      ]
     },
     "execution_count": 6,
     "metadata": {},
     "output_type": "execute_result"
    }
   ],
   "source": [
    "df.head(10)"
   ]
  },
  {
   "cell_type": "code",
   "execution_count": null,
   "id": "32fdbcf1",
   "metadata": {
    "pycharm": {
     "name": "#%%\n"
    }
   },
   "outputs": [],
   "source": [
    "def alphaProbability(r,dt,v):\n",
    "    u=np.exp(v*np.sqrt(dt))\n",
    "    d=1/u\n",
    "    rnp=(np.ezp(r*dt)-d)/(u-d)\n",
    "    return rnp"
   ]
  },
  {
   "cell_type": "code",
   "execution_count": 7,
   "id": "95bca7c6",
   "metadata": {
    "pycharm": {
     "name": "#%%\n"
    }
   },
   "outputs": [],
   "source": [
    "import yfinance as yf"
   ]
  },
  {
   "cell_type": "code",
   "execution_count": 4,
   "id": "d49a78a3",
   "metadata": {
    "pycharm": {
     "name": "#%%\n"
    }
   },
   "outputs": [
    {
     "name": "stdout",
     "output_type": "stream",
     "text": [
      "Date\n",
      "2023-03-03 00:00:00+05:30    17594.349609\n",
      "Name: Close, dtype: float64\n"
     ]
    }
   ],
   "source": [
    "#latest price of Nifty50\n",
    "nifty50 =yf.Ticker(\"^NSEI\")\n",
    "df= nifty50.history(period=\"1s\")\n",
    "S = df[\"Close\"]\n",
    "print(S)\n"
   ]
  },
  {
   "cell_type": "code",
   "execution_count": 9,
   "id": "54179d90",
   "metadata": {
    "pycharm": {
     "name": "#%%\n"
    }
   },
   "outputs": [
    {
     "name": "stdout",
     "output_type": "stream",
     "text": [
      "[*********************100%***********************]  1 of 1 completed\n"
     ]
    },
    {
     "data": {
      "text/html": [
       "<div>\n",
       "<style scoped>\n",
       "    .dataframe tbody tr th:only-of-type {\n",
       "        vertical-align: middle;\n",
       "    }\n",
       "\n",
       "    .dataframe tbody tr th {\n",
       "        vertical-align: top;\n",
       "    }\n",
       "\n",
       "    .dataframe thead th {\n",
       "        text-align: right;\n",
       "    }\n",
       "</style>\n",
       "<table border=\"1\" class=\"dataframe\">\n",
       "  <thead>\n",
       "    <tr style=\"text-align: right;\">\n",
       "      <th></th>\n",
       "      <th>Open</th>\n",
       "      <th>High</th>\n",
       "      <th>Low</th>\n",
       "      <th>Close</th>\n",
       "      <th>Adj Close</th>\n",
       "      <th>Volume</th>\n",
       "    </tr>\n",
       "    <tr>\n",
       "      <th>Date</th>\n",
       "      <th></th>\n",
       "      <th></th>\n",
       "      <th></th>\n",
       "      <th></th>\n",
       "      <th></th>\n",
       "      <th></th>\n",
       "    </tr>\n",
       "  </thead>\n",
       "  <tbody>\n",
       "    <tr>\n",
       "      <th>2022-01-03</th>\n",
       "      <td>17387.150391</td>\n",
       "      <td>17646.650391</td>\n",
       "      <td>17383.300781</td>\n",
       "      <td>17625.699219</td>\n",
       "      <td>17625.699219</td>\n",
       "      <td>200500</td>\n",
       "    </tr>\n",
       "    <tr>\n",
       "      <th>2022-01-04</th>\n",
       "      <td>17681.400391</td>\n",
       "      <td>17827.599609</td>\n",
       "      <td>17593.550781</td>\n",
       "      <td>17805.250000</td>\n",
       "      <td>17805.250000</td>\n",
       "      <td>247400</td>\n",
       "    </tr>\n",
       "    <tr>\n",
       "      <th>2022-01-05</th>\n",
       "      <td>17820.099609</td>\n",
       "      <td>17944.699219</td>\n",
       "      <td>17748.849609</td>\n",
       "      <td>17925.250000</td>\n",
       "      <td>17925.250000</td>\n",
       "      <td>251500</td>\n",
       "    </tr>\n",
       "    <tr>\n",
       "      <th>2022-01-06</th>\n",
       "      <td>17768.500000</td>\n",
       "      <td>17797.949219</td>\n",
       "      <td>17655.550781</td>\n",
       "      <td>17745.900391</td>\n",
       "      <td>17745.900391</td>\n",
       "      <td>236500</td>\n",
       "    </tr>\n",
       "    <tr>\n",
       "      <th>2022-01-07</th>\n",
       "      <td>17797.599609</td>\n",
       "      <td>17905.000000</td>\n",
       "      <td>17704.550781</td>\n",
       "      <td>17812.699219</td>\n",
       "      <td>17812.699219</td>\n",
       "      <td>239300</td>\n",
       "    </tr>\n",
       "    <tr>\n",
       "      <th>...</th>\n",
       "      <td>...</td>\n",
       "      <td>...</td>\n",
       "      <td>...</td>\n",
       "      <td>...</td>\n",
       "      <td>...</td>\n",
       "      <td>...</td>\n",
       "    </tr>\n",
       "    <tr>\n",
       "      <th>2022-12-26</th>\n",
       "      <td>17830.400391</td>\n",
       "      <td>18084.099609</td>\n",
       "      <td>17774.250000</td>\n",
       "      <td>18014.599609</td>\n",
       "      <td>18014.599609</td>\n",
       "      <td>176700</td>\n",
       "    </tr>\n",
       "    <tr>\n",
       "      <th>2022-12-27</th>\n",
       "      <td>18089.800781</td>\n",
       "      <td>18149.250000</td>\n",
       "      <td>17967.449219</td>\n",
       "      <td>18132.300781</td>\n",
       "      <td>18132.300781</td>\n",
       "      <td>214300</td>\n",
       "    </tr>\n",
       "    <tr>\n",
       "      <th>2022-12-28</th>\n",
       "      <td>18084.750000</td>\n",
       "      <td>18173.099609</td>\n",
       "      <td>18068.349609</td>\n",
       "      <td>18122.500000</td>\n",
       "      <td>18122.500000</td>\n",
       "      <td>193900</td>\n",
       "    </tr>\n",
       "    <tr>\n",
       "      <th>2022-12-29</th>\n",
       "      <td>18045.699219</td>\n",
       "      <td>18229.699219</td>\n",
       "      <td>17992.800781</td>\n",
       "      <td>18191.000000</td>\n",
       "      <td>18191.000000</td>\n",
       "      <td>281100</td>\n",
       "    </tr>\n",
       "    <tr>\n",
       "      <th>2022-12-30</th>\n",
       "      <td>18259.099609</td>\n",
       "      <td>18265.250000</td>\n",
       "      <td>18080.300781</td>\n",
       "      <td>18105.300781</td>\n",
       "      <td>18105.300781</td>\n",
       "      <td>192000</td>\n",
       "    </tr>\n",
       "  </tbody>\n",
       "</table>\n",
       "<p>248 rows × 6 columns</p>\n",
       "</div>"
      ],
      "text/plain": [
       "                    Open          High           Low         Close  \\\n",
       "Date                                                                 \n",
       "2022-01-03  17387.150391  17646.650391  17383.300781  17625.699219   \n",
       "2022-01-04  17681.400391  17827.599609  17593.550781  17805.250000   \n",
       "2022-01-05  17820.099609  17944.699219  17748.849609  17925.250000   \n",
       "2022-01-06  17768.500000  17797.949219  17655.550781  17745.900391   \n",
       "2022-01-07  17797.599609  17905.000000  17704.550781  17812.699219   \n",
       "...                  ...           ...           ...           ...   \n",
       "2022-12-26  17830.400391  18084.099609  17774.250000  18014.599609   \n",
       "2022-12-27  18089.800781  18149.250000  17967.449219  18132.300781   \n",
       "2022-12-28  18084.750000  18173.099609  18068.349609  18122.500000   \n",
       "2022-12-29  18045.699219  18229.699219  17992.800781  18191.000000   \n",
       "2022-12-30  18259.099609  18265.250000  18080.300781  18105.300781   \n",
       "\n",
       "               Adj Close  Volume  \n",
       "Date                              \n",
       "2022-01-03  17625.699219  200500  \n",
       "2022-01-04  17805.250000  247400  \n",
       "2022-01-05  17925.250000  251500  \n",
       "2022-01-06  17745.900391  236500  \n",
       "2022-01-07  17812.699219  239300  \n",
       "...                  ...     ...  \n",
       "2022-12-26  18014.599609  176700  \n",
       "2022-12-27  18132.300781  214300  \n",
       "2022-12-28  18122.500000  193900  \n",
       "2022-12-29  18191.000000  281100  \n",
       "2022-12-30  18105.300781  192000  \n",
       "\n",
       "[248 rows x 6 columns]"
      ]
     },
     "execution_count": 9,
     "metadata": {},
     "output_type": "execute_result"
    }
   ],
   "source": [
    "#One year Nifty50 data. (y-finance)\n",
    "df = yf.download(\"^NSEI\", start=\"2022-01-01\", end=\"2022-12-31\")\n",
    "df"
   ]
  },
  {
   "cell_type": "code",
   "execution_count": 13,
   "id": "f09da8b3",
   "metadata": {
    "pycharm": {
     "name": "#%%\n"
    }
   },
   "outputs": [],
   "source": [
    "# Determine the Option Value in cases of both CALL and PUT.\n",
    "def binomial_option_pricing(S, K, r, T, volat, N, option_type, show_tree=True):\n",
    "  dt = T/N\n",
    "  u = math.exp(volat*math.sqrt(dt))\n",
    "  d = 1/u\n",
    "  #Calculation of the risk neutral probability.\n",
    "  p = (math.exp(r*dt)-d)/(u-d)\n",
    "\n",
    "  stock_prices = [[S * u**j * d**(i-j) for j in range(i+1)] for i in range(N+1)]\n",
    "  option_values = [[0 for j in range(i+1)] for i in range(N+1)]\n",
    "\n",
    "  for j in range(N+1):\n",
    "        if option_type == 'call':\n",
    "            option_values[N][j] = max(stock_prices[N][j]-K, 0)\n",
    "        elif option_type == 'put':\n",
    "            option_values[N][j] = max(K-stock_prices[N][j], 0)\n",
    "\n",
    "  for i in range(N-1, -1, -1):\n",
    "        for j in range(i+1):\n",
    "            if option_type == 'call':\n",
    "                option_values[i][j] = max(stock_prices[i][j]-K,math.exp(-r*dt)*(p*option_values[i+1][j]+(1-p)*option_values[i+1][j+1]))\n",
    "            elif option_type == 'put':\n",
    "                option_values[i][j] = max(K-stock_prices[i][j], math.exp(-r*dt)*(p*option_values[i+1][j]+(1-p)*option_values[i+1][j+1]))\n",
    "\n",
    "  if show_tree:\n",
    "        for i in range(N+1):\n",
    "            print(' '.join([f'{val:.2f}' for val in option_values[i]]))\n",
    "  #This function returns the required option values at the very start of the binomial tree.\n",
    "  return option_values[0][0]"
   ]
  },
  {
   "cell_type": "code",
   "execution_count": 14,
   "id": "1b59b39d",
   "metadata": {
    "pycharm": {
     "name": "#%%\n"
    }
   },
   "outputs": [],
   "source": [
    "#Let Parameters be\n",
    "S = 17594.34\n",
    "K = S\n",
    "T = 200/365\n",
    "r = 0.06"
   ]
  },
  {
   "cell_type": "code",
   "execution_count": 15,
   "id": "1a5cf124",
   "metadata": {
    "pycharm": {
     "name": "#%%\n"
    }
   },
   "outputs": [],
   "source": [
    "#No. of periods(N)=4;\n",
    "N = 4\n"
   ]
  },
  {
   "cell_type": "code",
   "execution_count": 19,
   "id": "67c2535e",
   "metadata": {
    "pycharm": {
     "name": "#%%\n"
    }
   },
   "outputs": [
    {
     "data": {
      "text/plain": [
       "0.17325337010939032"
      ]
     },
     "execution_count": 19,
     "metadata": {},
     "output_type": "execute_result"
    }
   ],
   "source": [
    "#lets define volatility, so it can be easily accessible\n",
    "df['Log Returns'] = np.log(df['Close']) - np.log(df['Close'].shift(1))\n",
    "volat = np.sqrt(252) * df['Log Returns'].std()\n",
    "volat"
   ]
  },
  {
   "cell_type": "code",
   "execution_count": 20,
   "id": "2a77723b",
   "metadata": {
    "pycharm": {
     "name": "#%%\n"
    }
   },
   "outputs": [
    {
     "name": "stdout",
     "output_type": "stream",
     "text": [
      "737.60\n",
      "233.88 1362.49\n",
      "0.00 522.02 2407.52\n",
      "0.00 0.00 1165.18 3732.13\n",
      "0.00 0.00 0.00 2407.52 5144.47\n",
      "Call Price: 737.60\n"
     ]
    }
   ],
   "source": [
    "call_price = binomial_option_pricing(S, K, r, T, volat, N, 'call')\n",
    "print(f\"Call Price: {call_price:.2f}\")"
   ]
  },
  {
   "cell_type": "code",
   "execution_count": 21,
   "id": "933b21d8",
   "metadata": {
    "pycharm": {
     "name": "#%%\n"
    }
   },
   "outputs": [
    {
     "name": "stdout",
     "output_type": "stream",
     "text": [
      "958.37\n",
      "1481.81 340.55\n",
      "2209.00 626.24 0.00\n",
      "3113.40 1151.61 0.00 0.00\n",
      "3980.57 2117.74 0.00 0.00 0.00\n",
      "Put Price: 958.37\n"
     ]
    }
   ],
   "source": [
    "put_price = binomial_option_pricing(S, K, r, T, volat, N, 'put')\n",
    "print(f\"Put Price: {put_price:.2f}\")"
   ]
  },
  {
   "cell_type": "code",
   "execution_count": 22,
   "id": "b0ba452e",
   "metadata": {
    "pycharm": {
     "name": "#%%\n"
    }
   },
   "outputs": [],
   "source": [
    "#No. of periods(N)=5;\n",
    "N = 5"
   ]
  },
  {
   "cell_type": "code",
   "execution_count": 23,
   "id": "cdb64638",
   "metadata": {
    "pycharm": {
     "name": "#%%\n"
    }
   },
   "outputs": [
    {
     "name": "stdout",
     "output_type": "stream",
     "text": [
      "802.10\n",
      "357.11 1342.72\n",
      "97.10 671.40 2160.24\n",
      "0.00 213.94 1224.95 3303.38\n",
      "0.00 0.00 471.38 2138.53 4536.99\n",
      "0.00 0.00 0.00 1038.61 3303.38 5843.42\n",
      "Call Price: 802.10\n"
     ]
    }
   ],
   "source": [
    "call_price = binomial_option_pricing(S, K, r, T, volat, N, 'call')\n",
    "print(f\"Call Price: {call_price:.2f}\")"
   ]
  },
  {
   "cell_type": "code",
   "execution_count": 24,
   "id": "f1f9345f",
   "metadata": {
    "pycharm": {
     "name": "#%%\n"
    }
   },
   "outputs": [
    {
     "name": "stdout",
     "output_type": "stream",
     "text": [
      "1053.03\n",
      "1517.98 515.47\n",
      "2118.70 825.71 154.07\n",
      "2841.39 1290.10 285.54 0.00\n",
      "3629.20 1945.80 529.18 0.00 0.00\n",
      "4386.56 2781.20 980.72 0.00 0.00 0.00\n",
      "Put Price: 1053.03\n"
     ]
    }
   ],
   "source": [
    "put_price = binomial_option_pricing(S, K, r, T, volat, N, 'put')\n",
    "print(f\"Put Price: {put_price:.2f}\")\n"
   ]
  },
  {
   "cell_type": "code",
   "execution_count": 28,
   "id": "30815063",
   "metadata": {
    "pycharm": {
     "name": "#%%\n"
    }
   },
   "outputs": [],
   "source": [
    "#No. of periods(N)=10;\n",
    "N = 10"
   ]
  },
  {
   "cell_type": "code",
   "execution_count": 26,
   "id": "c3d29203",
   "metadata": {
    "pycharm": {
     "name": "#%%\n"
    }
   },
   "outputs": [
    {
     "name": "stdout",
     "output_type": "stream",
     "text": [
      "802.10\n",
      "357.11 1342.72\n",
      "97.10 671.40 2160.24\n",
      "0.00 213.94 1224.95 3303.38\n",
      "0.00 0.00 471.38 2138.53 4536.99\n",
      "0.00 0.00 0.00 1038.61 3303.38 5843.42\n",
      "Call Price: 802.10\n"
     ]
    }
   ],
   "source": [
    "call_price = binomial_option_pricing(S, K, r, T, volat, N, 'call')\n",
    "print(f\"Call Price: {call_price:.2f}\")"
   ]
  },
  {
   "cell_type": "code",
   "execution_count": 29,
   "id": "60d74c13",
   "metadata": {
    "pycharm": {
     "name": "#%%\n"
    }
   },
   "outputs": [
    {
     "name": "stdout",
     "output_type": "stream",
     "text": [
      "988.29\n",
      "1328.21 611.20\n",
      "1740.20 872.10 320.75\n",
      "2217.52 1213.18 492.90 128.51\n",
      "2743.31 1639.07 740.56 216.57 29.94\n",
      "3292.68 2141.93 1082.48 359.49 56.63 0.00\n",
      "3840.08 2697.38 1529.46 585.12 107.11 0.00 0.00\n",
      "4370.50 3267.79 2071.91 927.37 202.59 0.00 0.00 0.00\n",
      "4884.55 3820.43 2666.39 1414.85 383.17 0.00 0.00 0.00 0.00\n",
      "5382.81 4355.92 3242.27 2034.52 724.73 0.00 0.00 0.00 0.00 0.00\n",
      "5865.84 4874.88 3800.20 2634.71 1370.75 0.00 0.00 0.00 0.00 0.00 0.00\n",
      "Put Price: 988.29\n"
     ]
    }
   ],
   "source": [
    "put_price = binomial_option_pricing(S, K, r, T, volat, N, 'put')\n",
    "print(f\"Put Price: {put_price:.2f}\")"
   ]
  },
  {
   "cell_type": "code",
   "execution_count": 30,
   "id": "3833e7c3",
   "metadata": {
    "pycharm": {
     "name": "#%%\n"
    }
   },
   "outputs": [],
   "source": [
    "#No. of periods(N)=20;\n",
    "N = 20"
   ]
  },
  {
   "cell_type": "code",
   "execution_count": 31,
   "id": "948880db",
   "metadata": {
    "pycharm": {
     "name": "#%%\n"
    }
   },
   "outputs": [
    {
     "name": "stdout",
     "output_type": "stream",
     "text": [
      "759.56\n",
      "527.22 1015.41\n",
      "346.11 726.43 1333.86\n",
      "212.05 493.41 982.89 1720.97\n",
      "119.09 314.11 690.53 1304.93 2180.34\n",
      "59.78 184.14 456.84 947.60 1698.88 2712.60\n",
      "25.83 96.98 279.78 651.39 1273.70 2168.13 3303.38\n",
      "9.05 44.22 154.81 416.95 909.15 1675.41 2712.60 3911.34\n",
      "2.29 16.44 74.65 242.71 608.30 1240.18 2155.53 3303.38 4536.99\n",
      "0.32 4.45 29.56 124.04 372.88 866.97 1651.21 2712.60 3911.34 5180.84\n",
      "0.00 0.66 8.60 52.52 202.43 559.94 1204.60 2143.66 3303.38 4536.99 5843.42\n",
      "0.00 0.00 1.39 16.49 91.97 323.52 819.53 1628.43 2712.60 3911.34 5180.84 6525.27\n",
      "0.00 0.00 0.00 2.91 31.34 158.36 504.65 1165.54 2138.53 3303.38 4536.99 5843.42 7226.97\n",
      "0.00 0.00 0.00 0.00 6.08 58.98 267.21 765.18 1605.92 2712.60 3911.34 5180.84 6525.27 7949.08\n",
      "0.00 0.00 0.00 0.00 0.00 12.73 109.60 439.91 1122.31 2138.53 3303.38 4536.99 5843.42 7226.97 8692.19\n",
      "0.00 0.00 0.00 0.00 0.00 0.00 26.66 200.38 702.50 1583.73 2712.60 3911.34 5180.84 6525.27 7949.08 9456.93\n",
      "0.00 0.00 0.00 0.00 0.00 0.00 0.00 55.80 358.64 1079.70 2138.53 3303.38 4536.99 5843.42 7226.97 8692.19 10243.91\n",
      "0.00 0.00 0.00 0.00 0.00 0.00 0.00 0.00 116.81 623.45 1580.68 2712.60 3911.34 5180.84 6525.27 7949.08 9456.93 11053.78\n",
      "0.00 0.00 0.00 0.00 0.00 0.00 0.00 0.00 0.00 244.52 1038.61 2138.53 3303.38 4536.99 5843.42 7226.97 8692.19 10243.91 11887.22\n",
      "0.00 0.00 0.00 0.00 0.00 0.00 0.00 0.00 0.00 0.00 511.86 1580.68 2712.60 3911.34 5180.84 6525.27 7949.08 9456.93 11053.78 12744.91\n",
      "0.00 0.00 0.00 0.00 0.00 0.00 0.00 0.00 0.00 0.00 0.00 1038.61 2138.53 3303.38 4536.99 5843.42 7226.97 8692.19 10243.91 11887.22 13627.55\n",
      "Call Price: 759.56\n"
     ]
    }
   ],
   "source": [
    "call_price = binomial_option_pricing(S, K, r, T, volat, N, 'call')\n",
    "print(f\"Call Price: {call_price:.2f}\")"
   ]
  },
  {
   "cell_type": "code",
   "execution_count": 32,
   "id": "63c05f60",
   "metadata": {
    "pycharm": {
     "name": "#%%\n"
    }
   },
   "outputs": [
    {
     "name": "stdout",
     "output_type": "stream",
     "text": [
      "998.65\n",
      "1242.35 736.46\n",
      "1521.15 942.76 514.15\n",
      "1832.57 1186.95 679.85 335.31\n",
      "2172.07 1468.86 883.78 459.91 200.67\n",
      "2533.29 1785.84 1128.42 620.18 286.82 107.46\n",
      "2908.81 2132.72 1413.90 821.15 403.27 160.88 49.60\n",
      "3291.08 2502.16 1737.40 1066.19 556.90 237.22 78.23 18.58\n",
      "3673.54 2885.55 2092.89 1355.91 754.08 343.91 121.75 31.06 5.04\n",
      "4051.38 3274.37 2471.69 1687.23 999.45 489.24 186.69 51.39 9.00 0.75\n",
      "4421.82 3661.55 2863.63 2053.00 1294.38 681.44 281.43 84.07 15.96 1.44 0.00\n",
      "4783.85 4042.44 3259.00 2442.56 1635.47 927.07 416.07 135.65 28.13 2.76 0.00 0.00\n",
      "5137.44 4414.92 3650.38 2843.63 2013.83 1228.72 601.48 215.43 49.17 5.30 0.00 0.00 0.00\n",
      "5482.89 4778.58 4033.73 3245.10 2415.84 1582.60 847.25 335.68 85.10 10.17 0.00 0.00 0.00 0.00\n",
      "5820.57 5133.71 4407.96 3639.72 2826.16 1976.92 1158.26 511.19 145.53 19.54 0.00 0.00 0.00 0.00 0.00\n",
      "6150.89 5480.57 4773.31 4024.92 3232.41 2393.11 1530.11 756.96 245.09 37.52 0.00 0.00 0.00 0.00 0.00 0.00\n",
      "6474.36 5819.49 5130.02 4400.94 3628.93 2811.34 1945.50 1082.62 404.61 72.07 0.00 0.00 0.00 0.00 0.00 0.00 0.00\n",
      "6788.72 6150.85 5478.33 4768.02 4015.98 3219.55 2376.10 1482.86 650.12 138.42 0.00 0.00 0.00 0.00 0.00 0.00 0.00 0.00\n",
      "7094.19 6474.36 5818.51 5126.40 4393.81 3617.98 2796.36 1926.23 1004.73 265.85 0.00 0.00 0.00 0.00 0.00 0.00 0.00 0.00 0.00\n",
      "7391.03 6788.72 6150.85 5476.30 4762.66 4006.90 3206.53 2358.91 1461.26 510.62 0.00 0.00 0.00 0.00 0.00 0.00 0.00 0.00 0.00 0.00\n",
      "7679.47 7094.19 6474.36 5817.94 5122.77 4386.56 3606.89 2781.20 1906.77 980.72 0.00 0.00 0.00 0.00 0.00 0.00 0.00 0.00 0.00 0.00 0.00\n",
      "Put Price: 998.65\n"
     ]
    }
   ],
   "source": [
    "put_price = binomial_option_pricing(S, K, r, T, volat, N, 'put')\n",
    "print(f\"Put Price: {put_price:.2f}\")"
   ]
  },
  {
   "cell_type": "code",
   "execution_count": null,
   "id": "f79c72d4",
   "metadata": {
    "pycharm": {
     "name": "#%%\n"
    }
   },
   "outputs": [],
   "source": []
  }
 ],
 "metadata": {
  "kernelspec": {
   "display_name": "Python 3 (ipykernel)",
   "language": "python",
   "name": "python3"
  },
  "language_info": {
   "codemirror_mode": {
    "name": "ipython",
    "version": 3
   },
   "file_extension": ".py",
   "mimetype": "text/x-python",
   "name": "python",
   "nbconvert_exporter": "python",
   "pygments_lexer": "ipython3",
   "version": "3.9.12"
  }
 },
 "nbformat": 4,
 "nbformat_minor": 5
}